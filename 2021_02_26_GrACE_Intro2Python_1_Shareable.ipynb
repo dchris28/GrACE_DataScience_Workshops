{
  "nbformat": 4,
  "nbformat_minor": 0,
  "metadata": {
    "colab": {
      "name": "2021_02_26_GrACE_Intro2Python_1_Shareable.ipynb",
      "provenance": [],
      "collapsed_sections": [
        "ZJ8jqqbd6POe",
        "VVITuWMTAxJ1",
        "Lv8hBd_36X6_"
      ],
      "authorship_tag": "ABX9TyOE4cYuE/BjO4u/NvhV7ErM",
      "include_colab_link": true
    },
    "kernelspec": {
      "name": "python3",
      "display_name": "Python 3"
    }
  },
  "cells": [
    {
      "cell_type": "markdown",
      "metadata": {
        "id": "view-in-github",
        "colab_type": "text"
      },
      "source": [
        "<a href=\"https://colab.research.google.com/github/dchris28/GrACE_DataScience_Workshops/blob/main/2021_02_26_GrACE_Intro2Python_1_Shareable.ipynb\" target=\"_parent\"><img src=\"https://colab.research.google.com/assets/colab-badge.svg\" alt=\"Open In Colab\"/></a>"
      ]
    },
    {
      "cell_type": "markdown",
      "metadata": {
        "id": "3wxLUKKM_k5v"
      },
      "source": [
        "# **Introduction to Python and Data Science**\r\n",
        "February 26th, 2021 *Workshop 1: Python Basics*\r\n",
        "\r\n",
        "Hosted by DC for the Graduate Association of Chemical Engineers\r\n",
        "\r\n",
        "Required software: None.\r\n",
        "\r\n",
        "Some components of this tutorial are influenced by or taken from w3schools.com [Python Introduction](https://www.w3schools.com/python/python_intro.asp) and Stanford [CS231n: Convolutional Neural Networks for Visual Recognition](http://cs231n.stanford.edu/)"
      ]
    },
    {
      "cell_type": "markdown",
      "metadata": {
        "id": "PO3igBS1_77K"
      },
      "source": [
        "## **About Python**"
      ]
    },
    {
      "cell_type": "markdown",
      "metadata": {
        "id": "wo_N0-588YcK"
      },
      "source": [
        "**Python, as described in w3school.com's *Python Introduction*:**\r\n",
        "\r\n",
        "Python is a popular programming language. It was created by Guido van Rossum, and released in 1991.\r\n",
        "\r\n",
        "It is used for:\r\n",
        "\r\n",
        "* web development (server-side),\r\n",
        "* software development,\r\n",
        "* mathematics,\r\n",
        "* system scripting.\r\n",
        "\r\n",
        "**What can Python do?**\r\n",
        "* Python can be used on a server to create web applications.\r\n",
        "* Python can be used alongside software to create workflows.\r\n",
        "* Python can connect to database systems. It can also read and modify files.\r\n",
        "* Python can be used to handle big data and perform complex mathematics.\r\n",
        "* Python can be used for rapid prototyping, or for production-ready software development."
      ]
    },
    {
      "cell_type": "markdown",
      "metadata": {
        "id": "xsyNxJ1Q-cCI"
      },
      "source": [
        "This tutorial is written using Google Colab and saved as the .ipynb filetype which may be opened using Colab or Jupyter Notebook, as well as some other programs. These are free to use and work in most modern browsers, so they are ideal for practice and working on non-production codes (data analysis/visualization, etc.). However, python may also be made as an executable or run in the command line (or as its own!).\r\n",
        "\r\n",
        "During this workshop, I will be writing code for the most common Python version at the moment, Python 3.7."
      ]
    },
    {
      "cell_type": "code",
      "metadata": {
        "colab": {
          "base_uri": "https://localhost:8080/"
        },
        "id": "R_uZ6JGTnsX9",
        "outputId": "3e91c927-fbb2-417c-e3c1-0dfc77b7932c"
      },
      "source": [
        "!python --version"
      ],
      "execution_count": null,
      "outputs": [
        {
          "output_type": "stream",
          "text": [
            "Python 3.7.10\n"
          ],
          "name": "stdout"
        }
      ]
    },
    {
      "cell_type": "markdown",
      "metadata": {
        "id": "mWjXfbP_aJlW"
      },
      "source": [
        "If you are using Colab, there is a 'SEARCH STACK OVERFLOW' button for some errors. [Stack Overflow](https://stackoverflow.com/) is a great resource for learning coding and debugging niche problems. It can be used by searching on the website itself or through any popular search engine.\r\n",
        "\r\n",
        "**Google, Stack Overflow, etc. are your best friends while coding.** If you get stuck on something, try to search for it on the web. The more specific, the better."
      ]
    },
    {
      "cell_type": "markdown",
      "metadata": {
        "id": "oEHLF3WB_z8M"
      },
      "source": [
        "## **Essentials**"
      ]
    },
    {
      "cell_type": "markdown",
      "metadata": {
        "id": "l9eJMW3SBUjX"
      },
      "source": [
        "print() is a useful command for displaying text, values, and basic debugging (if not using a debugger!)\r\n"
      ]
    },
    {
      "cell_type": "code",
      "metadata": {
        "id": "2MnWAcX03R5p"
      },
      "source": [
        "print(\"Welcome to the GrACE Python and Data Science workshops!\")"
      ],
      "execution_count": null,
      "outputs": []
    },
    {
      "cell_type": "markdown",
      "metadata": {
        "id": "dmfuxv9VBcGP"
      },
      "source": [
        "Comments are code that are not executed by your computer. These are made using two methods:"
      ]
    },
    {
      "cell_type": "code",
      "metadata": {
        "id": "9hrPQQJS5sVx"
      },
      "source": [
        "# A line starting with a '#' symbol is a comment\r\n",
        "\r\n",
        "'''A line with three single quotes, or three double quotes surrounding it is also commented'''\r\n",
        "\"\"\"Isn't that neat?\"\"\""
      ],
      "execution_count": null,
      "outputs": []
    },
    {
      "cell_type": "markdown",
      "metadata": {
        "id": "gRTZkxBpBa-H"
      },
      "source": [
        " Lines with '#' are technically the only real comments. Triple quotes of either kind are strings that Python does nothing with, but still have values.  See how 'Isn't that neat?' was printed?"
      ]
    },
    {
      "cell_type": "markdown",
      "metadata": {
        "id": "20oVCP8aBj03"
      },
      "source": [
        "**COLAB pro-tip**: You can comment and uncomment with CTRL+/. Mac is probably cmd+/, but I don't know, I'm not a liberal arts major."
      ]
    },
    {
      "cell_type": "markdown",
      "metadata": {
        "id": "MHD3q8IBCOiW"
      },
      "source": [
        "Block comments are large comments that are best organized when written across multiple lines."
      ]
    },
    {
      "cell_type": "code",
      "metadata": {
        "id": "FBpYzQF8CZfd"
      },
      "source": [
        "'''\r\n",
        "Like single-line comments, this can be done by using #, '''''', or \"\"\"\"\"\"\r\n",
        "If you look at the cell above, I already demonstrated one kind of block comment, and here is another.\r\n",
        "If using #, a line return ('enter' or 'return' on the keyboard) would cause the comment to be split, thus # is needed for every line to be commented.\r\n",
        "'''"
      ],
      "execution_count": null,
      "outputs": []
    },
    {
      "cell_type": "markdown",
      "metadata": {
        "id": "s6XXoz5VXXmW"
      },
      "source": [
        "**Isn't it weird that the single quotes don't appear in that result? Try replacing the outermost single quotes with double quotes and see what happens.**\r\n",
        "\r\n",
        "**Speaking of weird, what are those \\n doing there? What does \\\\' mean?**\r\n",
        "\r\n",
        "**Are there other characters like these?**\r\n",
        "\r\n",
        "**Why didn't # come out like \\\\#?**\r\n",
        "\r\n",
        "**If you double-click on this cell, or click it once and press enter or return, what special modifications have I had to make for this text to show correctly?**"
      ]
    },
    {
      "cell_type": "markdown",
      "metadata": {
        "id": "q0xu8YQDAmhE"
      },
      "source": [
        "## **Basic data types and operations**"
      ]
    },
    {
      "cell_type": "markdown",
      "metadata": {
        "id": "mtfFQmX6RsfS"
      },
      "source": [
        "### **Variables**"
      ]
    },
    {
      "cell_type": "markdown",
      "metadata": {
        "id": "wiyO-rMycU-8"
      },
      "source": [
        "Python, like nearly every programming language in existence, uses variables as placeholders to organize data. This enables the user to more easily write code and utilize the data that is stored within the computer.\r\n",
        "\r\n",
        "Variables have data types specifying how the computer should interact with the data and how the data can be used. Unlike certain other languages, you do not have to 'declare' a variables data type. It's convenient that Python automatically knows the data type, but be careful, as this can have unintended consequences."
      ]
    },
    {
      "cell_type": "markdown",
      "metadata": {
        "id": "mP-Ofq0DP7ON"
      },
      "source": [
        "Variables are assigned with the variable name on the left of an equal sign (just one) and the value on the right."
      ]
    },
    {
      "cell_type": "code",
      "metadata": {
        "id": "31F415nHRrvt"
      },
      "source": [
        "x = 1\r\n",
        "print(x, type(x))\r\n",
        "\r\n",
        "x = 1.0\r\n",
        "print(x, type(x))\r\n",
        "\r\n",
        "x = 'Chemical Engineering is the coolest major!'\r\n",
        "print(x, type(x))"
      ],
      "execution_count": null,
      "outputs": []
    },
    {
      "cell_type": "markdown",
      "metadata": {
        "id": "ZxPkgt5SKEiE"
      },
      "source": [
        "### **Numbers**"
      ]
    },
    {
      "cell_type": "markdown",
      "metadata": {
        "id": "Cp-471PucbNL"
      },
      "source": [
        "Python data types for numbers include integers, floating-point, and complex. The first two will be discussed here and a link to complex type is included at the end of this section."
      ]
    },
    {
      "cell_type": "markdown",
      "metadata": {
        "id": "2PBslgBsF0gt"
      },
      "source": [
        "*Integers* (ints) are whole numbers between -INF and +INF. A 32-bit computer architecture can have integer values between −2,147,483,648 (−2^31) and 2,147,483,647 (2^31-1). Zero is also an integer (thus the highest value ending in an odd number)."
      ]
    },
    {
      "cell_type": "code",
      "metadata": {
        "id": "C8YoPGVIHEg_"
      },
      "source": [
        "x = 1\r\n",
        "print(x, type(x))"
      ],
      "execution_count": null,
      "outputs": []
    },
    {
      "cell_type": "markdown",
      "metadata": {
        "id": "9sZyIdNwHXpu"
      },
      "source": [
        "*Floating-point* (floats) are values that have some decimal component. These are particularly useful for very large and very small number."
      ]
    },
    {
      "cell_type": "code",
      "metadata": {
        "id": "V0HGJiiUHTCq"
      },
      "source": [
        "x = 1.0\r\n",
        "print(x, type(x))"
      ],
      "execution_count": null,
      "outputs": []
    },
    {
      "cell_type": "markdown",
      "metadata": {
        "id": "dOOGnynBKNdv"
      },
      "source": [
        "There are several ways to perform arithmetic upon integer and float values. These follow standard order of operations (PEMDAS)."
      ]
    },
    {
      "cell_type": "code",
      "metadata": {
        "id": "11NxxXQOJ0GZ"
      },
      "source": [
        "x = 3\r\n",
        "\r\n",
        "print( x + 1 ) # Addition\r\n",
        "\r\n",
        "print( x - 1 ) # Subtraction\r\n",
        "\r\n",
        "print( x * 2 ) # Multiplication\r\n",
        "\r\n",
        "print( x ** 2 ) # Exponentiation\r\n",
        "\r\n",
        "print(x, type(x))"
      ],
      "execution_count": null,
      "outputs": []
    },
    {
      "cell_type": "markdown",
      "metadata": {
        "id": "WHF2fEaUOpSf"
      },
      "source": [
        "**Why didn't the final value of *x* change?**"
      ]
    },
    {
      "cell_type": "markdown",
      "metadata": {
        "id": "GnxyGocoM-1k"
      },
      "source": [
        "Sometimes a float will result from arithmetic applied to an int."
      ]
    },
    {
      "cell_type": "code",
      "metadata": {
        "id": "eY0PxQCKNWpi"
      },
      "source": [
        "x = 3\r\n",
        "print( x / 2 ) # Division\r\n",
        "print(type(x/2))"
      ],
      "execution_count": null,
      "outputs": []
    },
    {
      "cell_type": "markdown",
      "metadata": {
        "id": "Orrm1fJnO-i1"
      },
      "source": [
        "**Would an int result from multiplying 1.5 by 2? How about 1.5 by 2.0?**\r\n",
        "\r\n",
        "**What would happen if I exponentiated an int by a float? Would it matter if the exponential can be downcast (e.g., the float 4.0 can be downcast to the int 4)?**"
      ]
    },
    {
      "cell_type": "markdown",
      "metadata": {
        "id": "TKw6rXwvN9iz"
      },
      "source": [
        "There are some 'Pythonic' ways to perform arithmetic. These work by immediately performing the operation upon the variable."
      ]
    },
    {
      "cell_type": "code",
      "metadata": {
        "id": "avuHinxkMcOr"
      },
      "source": [
        "x = 3\r\n",
        "\r\n",
        "x += 1 # Addition\r\n",
        "print(x)\r\n",
        "\r\n",
        "x *= 2 # Multiplication\r\n",
        "print(x)"
      ],
      "execution_count": null,
      "outputs": []
    },
    {
      "cell_type": "markdown",
      "metadata": {
        "id": "CKEEzYBtPiNj"
      },
      "source": [
        "**How do you think I would perform subtraction in a pythonic way? Exponentiation?**\r\n",
        "\r\n",
        "**Why do I receive an error when executing print(x-=1) or print(x+=1)?**"
      ]
    },
    {
      "cell_type": "markdown",
      "metadata": {
        "id": "deeLkYIcRY-_"
      },
      "source": [
        "Niche arithmetic operators"
      ]
    },
    {
      "cell_type": "code",
      "metadata": {
        "id": "aBFmL_AORXI-"
      },
      "source": [
        "x = 5\r\n",
        "\r\n",
        "print( x // 2 ) # 'Floored' division always rounds down\r\n",
        "\r\n",
        "print( x % 2 ) # 'Modulo' operator returns the remainder of the quotient of the numerator and denominator\r\n",
        "\r\n",
        "print( -x ) # Negate the value of x\r\n",
        "\r\n",
        "print( +x ) # Unchanged value of x"
      ],
      "execution_count": null,
      "outputs": []
    },
    {
      "cell_type": "markdown",
      "metadata": {
        "id": "Zo7-3FFkUiWg"
      },
      "source": [
        "**If *x = -5*, what would *+x* return?**"
      ]
    },
    {
      "cell_type": "markdown",
      "metadata": {
        "id": "VH-vTUQWOE8h"
      },
      "source": [
        "More information about numerical data types, including complex numbers, and other arithmetic operators can be found in the [Python 3.7 documentation](https://docs.python.org/3.7/library/stdtypes.html#numeric-types-int-float-long-complex).\r\n",
        "\r\n",
        "**ADVANCED QUESTIONS**\r\n",
        "\r\n",
        "Only using ints and floats, how could I make a number larger than 2^32-1?\r\n",
        "\r\n",
        "How does a computer know when a number is negative?\r\n",
        "\r\n",
        "Did I have to declare the variable *x* for every block of code?"
      ]
    },
    {
      "cell_type": "markdown",
      "metadata": {
        "id": "9z7g0MSdTIXC"
      },
      "source": [
        "### **Strings**"
      ]
    },
    {
      "cell_type": "markdown",
      "metadata": {
        "id": "Kdo6XXokTer6"
      },
      "source": [
        "Text data are handled with string (str) objects. These are sequences of 'characters', though character is not a data type in Python. Text data can be letters, numbers, or control characters (discussed later).\r\n",
        "\r\n",
        "Because strings are sequences of characters, you can perform some really interesting operations with strings."
      ]
    },
    {
      "cell_type": "markdown",
      "metadata": {
        "id": "nnLgOTUZzwLr"
      },
      "source": [
        "Use single or double quotes around your text to create a string literal.\r\n"
      ]
    },
    {
      "cell_type": "code",
      "metadata": {
        "id": "Ki3X-KFxzvqy"
      },
      "source": [
        "# Single quote\r\n",
        "string1 = 'hello'\r\n",
        "print(string1)\r\n",
        "\r\n",
        "# Double quote\r\n",
        "string2 = \"hello\"\r\n",
        "print(string2)\r\n",
        "\r\n",
        "# Logic testing to prove these are equivalent. Discussed under Boolean section\r\n",
        "string1 == string2"
      ],
      "execution_count": null,
      "outputs": []
    },
    {
      "cell_type": "markdown",
      "metadata": {
        "id": "n4iFY2NYQgdj"
      },
      "source": [
        "As introduced in the comments section, strings can also be written over multiple lines using three single or double quotes."
      ]
    },
    {
      "cell_type": "code",
      "metadata": {
        "id": "bGXjBj1PQnNQ"
      },
      "source": [
        "a = \"\"\"Lorem ipsum dolor sit amet,\r\n",
        "consectetur adipiscing elit,\r\n",
        "sed do eiusmod tempor incididunt\r\n",
        "ut labore et dolore magna aliqua.\"\"\"\r\n",
        "print(a)"
      ],
      "execution_count": null,
      "outputs": []
    },
    {
      "cell_type": "markdown",
      "metadata": {
        "id": "ezFGyYj9QsDL"
      },
      "source": [
        "**Why did the above example print across multiple lines if I didn't put /n in the variable *a*? Did it actually put newlines in? Or is that the interpreter?**"
      ]
    },
    {
      "cell_type": "markdown",
      "metadata": {
        "id": "kEHG5o3aQWKs"
      },
      "source": [
        "Strings are arrays! We'll talk more in-depth about arrays later, but here's a taste of how useful they are and what you can do with them.\r\n",
        "\r\n",
        "Firstly, to find the length of a string (i.e., the number of characters within it), use len()"
      ]
    },
    {
      "cell_type": "code",
      "metadata": {
        "id": "6pIhBCN2XEyt"
      },
      "source": [
        "a = 'Hello, GrACE!'\r\n",
        "print(a, len(a))"
      ],
      "execution_count": null,
      "outputs": []
    },
    {
      "cell_type": "markdown",
      "metadata": {
        "id": "IZPTbcc_RbtP"
      },
      "source": [
        "If I want to read the first letter from a string variable *a*, I can extract it with *a*[*i*], where *i* is the *i*-th element of the array (string) *a*. Python indexing, like most programming languages (except MATLAB, FORTRAN, COBOL, etc.), starts from 0, not 1. Thus the 'first' element is in the zero-index."
      ]
    },
    {
      "cell_type": "code",
      "metadata": {
        "id": "g7RN0l2mUU1C"
      },
      "source": [
        "a = 'Hey!'\r\n",
        "print(a[0])\r\n",
        "print(a[1])\r\n",
        "print(a[2])\r\n",
        "print(a[3])"
      ],
      "execution_count": null,
      "outputs": []
    },
    {
      "cell_type": "markdown",
      "metadata": {
        "id": "HppaP53jV-mp"
      },
      "source": [
        "If I want the last letter, I can use *negative indexing* with *a*[-*i*] to start indexing from the last element."
      ]
    },
    {
      "cell_type": "code",
      "metadata": {
        "id": "y1GwzNE6WKyS"
      },
      "source": [
        "a = 'Hey!'\r\n",
        "print(a[-1])\r\n",
        "print(a[-2])\r\n",
        "print(a[-3])\r\n",
        "print(a[-4])"
      ],
      "execution_count": null,
      "outputs": []
    },
    {
      "cell_type": "markdown",
      "metadata": {
        "id": "pBVe5fxLUcXO"
      },
      "source": [
        "If I want an exact range of characters from a string, I'll perform slicing. This is done by *a*[*i*:*j*] to get the characters from position *i* to position *j* (not included). Note, *i* does not **have** to be less than *j*."
      ]
    },
    {
      "cell_type": "code",
      "metadata": {
        "id": "kr_PvS4fUcD6"
      },
      "source": [
        "a = 'Hey you!'\r\n",
        "\r\n",
        "# Slice out the first three characters (0-3 is 4 characters)\r\n",
        "print(a[0:3])\r\n",
        "\r\n",
        "# Can slice from the start of the array by leaving i blank\r\n",
        "print(a[:3])\r\n",
        "\r\n",
        "# Can slice to the end by leaving j out\r\n",
        "print(a[4:])\r\n",
        "\r\n",
        "# Can use negative indexing to slice as well\r\n",
        "print(a[:-4])\r\n",
        "print(a[-4:])"
      ],
      "execution_count": null,
      "outputs": []
    },
    {
      "cell_type": "markdown",
      "metadata": {
        "id": "6Bk1rgmgWqEy"
      },
      "source": [
        "**If I'm using negative indexing, is the leftmost element included? How about the right?**"
      ]
    },
    {
      "cell_type": "markdown",
      "metadata": {
        "id": "3SuaFix3PwHL"
      },
      "source": [
        "Strings, like arrays, can be concatenated with *+* to merge their elements, here characters. They do not always have to be assigned as a variable first."
      ]
    },
    {
      "cell_type": "code",
      "metadata": {
        "id": "ECVIPjZKUbuc"
      },
      "source": [
        "a = 'Hello'\r\n",
        "b = 'world!'\r\n",
        "print(a+b)\r\n",
        "print(a+', '+b)"
      ],
      "execution_count": null,
      "outputs": []
    },
    {
      "cell_type": "markdown",
      "metadata": {
        "id": "CXYuP-VNXvxw"
      },
      "source": [
        "Below are some of the most commonly used methods for working with strings."
      ]
    },
    {
      "cell_type": "code",
      "metadata": {
        "id": "pF5GxggDPuti"
      },
      "source": [
        "a = 'Chemical engineering is fun!'\r\n",
        "print(a.capitalize()) # Capitalize the first letter\r\n",
        "print(a.upper()) # Upper case every letter-character\r\n",
        "print(a.lower()) # Lower case every letter-character\r\n",
        "print(a.strip()) # Remove all whitespace\r\n",
        "print(a.replace('i','y')) # Replace a string with another string\r\n",
        "print(a.split(' ')) # Split a string into an array of substrings based on a separator"
      ],
      "execution_count": null,
      "outputs": []
    },
    {
      "cell_type": "markdown",
      "metadata": {
        "id": "6Hgk8dpGZXc7"
      },
      "source": [
        "Some strings need *escape characters* to insert 'illegal' characters in a string (e.g., ', \")"
      ]
    },
    {
      "cell_type": "code",
      "metadata": {
        "id": "xxSTZEPJZuq4"
      },
      "source": [
        "a = \"\"Nothing is more practical than a good theory.\" - Ludwig Boltzmann\"\r\n",
        "print(a)"
      ],
      "execution_count": null,
      "outputs": []
    },
    {
      "cell_type": "code",
      "metadata": {
        "id": "d3kP4dK4anU8"
      },
      "source": [
        "a = \"\\\"Nothing is more practical than a good theory.\\\" - Ludwig Boltzmann\"\r\n",
        "print(a)"
      ],
      "execution_count": null,
      "outputs": []
    },
    {
      "cell_type": "markdown",
      "metadata": {
        "id": "5kq1Qc1Ha4nd"
      },
      "source": [
        "More about string data type and methods [here](https://docs.python.org/3.7/library/stdtypes.html#string-methods)."
      ]
    },
    {
      "cell_type": "markdown",
      "metadata": {
        "id": "V3QGhBsSVTJw"
      },
      "source": [
        "### Boolean, the two truth values of logic, and Boolean algebra"
      ]
    },
    {
      "cell_type": "markdown",
      "metadata": {
        "id": "0eSrAi-bcO9v"
      },
      "source": [
        "Booleans are one of two values, *True* or *False*, and can be set or the result of evaluating an expression. These are quite useful in *if* conditions and *while* and *for* .\r\n",
        "\r\n",
        "Truth table below is from [here](http://bcs.whfreeman.com/webpub/mathematics/gersting7e/chapter%201/section1-1/Truth_Tables.htm).\r\n",
        "\r\n",
        "\r\n",
        "![truthtable2.gif](data:image/gif;base64,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)"
      ]
    },
    {
      "cell_type": "code",
      "metadata": {
        "id": "dt0ZtWNVczdG"
      },
      "source": [
        "# Set a Boolean value\r\n",
        "a = True\r\n",
        "print(a, type(a))\r\n",
        "\r\n",
        "# Evaluate an expression\r\n",
        "print('3 < 5 is', 3 < 5)\r\n",
        "\r\n",
        "# Set a variable to be the Boolean result of an expression\r\n",
        "a = 3 > 5\r\n",
        "print(a, type(a))"
      ],
      "execution_count": null,
      "outputs": []
    },
    {
      "cell_type": "markdown",
      "metadata": {
        "id": "5CSwppF_d7jI"
      },
      "source": [
        "**I did a clever thing with the print function in the above examples. What is the comma actually doing each time I call print(*a*,*b*)?**"
      ]
    },
    {
      "cell_type": "markdown",
      "metadata": {
        "id": "P-XubNi7eW7L"
      },
      "source": [
        "Booleans are quite useful for comparing numerical values"
      ]
    },
    {
      "cell_type": "code",
      "metadata": {
        "id": "Y3QumE7bczV7"
      },
      "source": [
        "a = 1\r\n",
        "b = 2\r\n",
        "print('a > b is', a > b) # Strictly greater than\r\n",
        "print('a < b is', a < b) # Strictly less than\r\n",
        "print('a == b is', a == b) # Exactly equal to\r\n",
        "print('a >= b is', a >= b) # Greater than or equal to\r\n",
        "print('a <= b is', a <= b) # Less than or equal to"
      ],
      "execution_count": null,
      "outputs": []
    },
    {
      "cell_type": "markdown",
      "metadata": {
        "id": "xRCgjZJafIW9"
      },
      "source": [
        "or text"
      ]
    },
    {
      "cell_type": "code",
      "metadata": {
        "id": "j8cr-A8gfPLB"
      },
      "source": [
        "a = 'Right'\r\n",
        "b = 'Wrong'\r\n",
        "c = 'Right'\r\n",
        "print('a == b is', a == b )\r\n",
        "print('a == c is', a == c )\r\n",
        "\r\n",
        "print('\\n') # Example of a newline character\r\n",
        "\r\n",
        "# Using the is operator\r\n",
        "print('a is b?', a is b )\r\n",
        "print('a is c?', a is c )\r\n",
        "print('a is not c?', a is not c )\r\n",
        "\r\n",
        "print('\\n')\r\n",
        "\r\n",
        "# Using the in operator here\r\n",
        "a = 'brown'\r\n",
        "b = 'The quick brown fox jumped over the lazy dog'\r\n",
        "print('a: %s\\nb: %s\\na in b? %r' % (a,b,a in b )) # Also threw in some print formatting"
      ],
      "execution_count": null,
      "outputs": []
    },
    {
      "cell_type": "markdown",
      "metadata": {
        "id": "lE-3dug2fgn4"
      },
      "source": [
        "**If *a* = 'Hello' and *c* = 'hello', what would *a* == *c* return?**"
      ]
    },
    {
      "cell_type": "markdown",
      "metadata": {
        "id": "cmwlSyjuf2rc"
      },
      "source": [
        "or booleans."
      ]
    },
    {
      "cell_type": "code",
      "metadata": {
        "id": "VWVh7ctNf0ns"
      },
      "source": [
        "true, false = True, False\r\n",
        "print(type(true), type(false))"
      ],
      "execution_count": null,
      "outputs": []
    },
    {
      "cell_type": "markdown",
      "metadata": {
        "id": "X35PacRnggAy"
      },
      "source": [
        "**There's another cool comma trick up there. See if you can figure out what it is and how I used it**"
      ]
    },
    {
      "cell_type": "markdown",
      "metadata": {
        "id": "6e0YscFWgBa-"
      },
      "source": [
        "Booleans have some cool effects when combined with Boolean logic. Python uses *and*, *or*, and *not*, instead of &&, ||, !, like other languages do."
      ]
    },
    {
      "cell_type": "code",
      "metadata": {
        "id": "3b_8WZ-QgcaA"
      },
      "source": [
        "t, f = True, False\r\n",
        "print( t and f ) # Logical AND\r\n",
        "print( t or f ) # Logical OR\r\n",
        "print( not t ) # Logical NOT\r\n",
        "print( t != f ) # Logical XOR"
      ],
      "execution_count": null,
      "outputs": []
    },
    {
      "cell_type": "markdown",
      "metadata": {
        "id": "fN2z_kGrjt9q"
      },
      "source": [
        "However, you can use *bitwise operators*. These only work if comparing Boolean or binary numbers."
      ]
    },
    {
      "cell_type": "code",
      "metadata": {
        "id": "yTh4rWDzj3Cn"
      },
      "source": [
        "t, f = True, False\r\n",
        "print('t: %r, f: %r' % (t, f))\r\n",
        "print( t & f ) # Logical AND\r\n",
        "print( t | f) # Logical OR\r\n",
        "print( ~ f ) # Logical NOT\r\n",
        "print( t ^ f ) # Logical XOR\r\n",
        "\r\n",
        "print('\\n')\r\n",
        "\r\n",
        "t, f = 0, 1\r\n",
        "print('t: %d, f: %d' % (t, f))\r\n",
        "print( t & f ) # Logical AND\r\n",
        "print( t | f) # Logical OR\r\n",
        "print( ~ f ) # Logical NOT\r\n",
        "print( t ^ f ) # Logical XOR"
      ],
      "execution_count": null,
      "outputs": []
    },
    {
      "cell_type": "markdown",
      "metadata": {
        "id": "H4TMN5N-k2V_"
      },
      "source": [
        "**Where did that *-2* come from? What would ~*t* be if *t* = 0? Free coffee to the first person to email me the correct answers to those questions (dchris28@uic.edu).**"
      ]
    },
    {
      "cell_type": "markdown",
      "metadata": {
        "id": "HjfNQiKQhHPl"
      },
      "source": [
        "You can evaluate any value and receive a True or False about that value by using bool()."
      ]
    },
    {
      "cell_type": "code",
      "metadata": {
        "id": "B1cAdcNEg_Qb"
      },
      "source": [
        "print(bool(\"Will this be true?\"))"
      ],
      "execution_count": null,
      "outputs": []
    },
    {
      "cell_type": "markdown",
      "metadata": {
        "id": "ZAAXi0BlhRao"
      },
      "source": [
        "**How would I get false out of bool()?**"
      ]
    },
    {
      "cell_type": "markdown",
      "metadata": {
        "id": "x3QjzIcG6J_H"
      },
      "source": [
        "## **Containers**"
      ]
    },
    {
      "cell_type": "markdown",
      "metadata": {
        "id": "C8HWO_oTHkjO"
      },
      "source": [
        "Containers are four data types which store collections of data. These are lists, dictionaries, sets, and tuples.\r\n",
        "\r\n",
        "From **w3schools**:\r\n",
        "*   List is a collection which is ordered and changeable. Allows duplicate members.\r\n",
        "*   Tuple is a collection which is ordered and unchangeable. Allows duplicate members.\r\n",
        "*   Set is a collection which is unordered and unindexed. No duplicate members.\r\n",
        "*    Dictionary is a collection which is unordered* and changeable. No duplicate members.\r\n",
        "\r\n",
        "*Depends on Python version"
      ]
    },
    {
      "cell_type": "markdown",
      "metadata": {
        "id": "HNT-ukEb6LaF"
      },
      "source": [
        "### Lists"
      ]
    },
    {
      "cell_type": "markdown",
      "metadata": {
        "id": "_-CzAsbDGY6R"
      },
      "source": [
        "Lists are resizeable '1D' sets that can contain elements of different data types within it (including other lists), and elements may be repeated. Lists are created with square brackets [ ]."
      ]
    },
    {
      "cell_type": "code",
      "metadata": {
        "id": "w42oW4KsIthP"
      },
      "source": [
        "# A list of mixed types\r\n",
        "a = [1, '1', [1,'1'], True]\r\n",
        "print(a, type(a))"
      ],
      "execution_count": null,
      "outputs": []
    },
    {
      "cell_type": "markdown",
      "metadata": {
        "id": "YEaKvpU1I96_"
      },
      "source": [
        "As mentioned in the section on strings, elements of a list may be accessed by their index, and sections accessed by slicing."
      ]
    },
    {
      "cell_type": "code",
      "metadata": {
        "id": "vdAmps__JOO0"
      },
      "source": [
        "a = [1,2,3]\r\n",
        "print(a[0])\r\n",
        "print(a[0:2]) # A slice of a list with multiple elements is a list too!"
      ],
      "execution_count": null,
      "outputs": []
    },
    {
      "cell_type": "markdown",
      "metadata": {
        "id": "HTyFqxfXL-i-"
      },
      "source": [
        "I can replace the *i*-th element of a list with *a*[*i*]=*x*, where *x* is some value."
      ]
    },
    {
      "cell_type": "code",
      "metadata": {
        "id": "yCkuI9Q_MIs0"
      },
      "source": [
        "a = [1,2,3,4]\r\n",
        "print(a)\r\n",
        "\r\n",
        "a[1] = 5\r\n",
        "print(a)"
      ],
      "execution_count": null,
      "outputs": []
    },
    {
      "cell_type": "markdown",
      "metadata": {
        "id": "BKyJO6xKNMU2"
      },
      "source": [
        "**How would I change a range of elements at once? Try to change the middle two values of *a* to [5,6] with only one line of code.**\r\n",
        "\r\n",
        "**What would happen if I try to replace a range of elements with fewer values than the number of elements in the range?**"
      ]
    },
    {
      "cell_type": "markdown",
      "metadata": {
        "id": "lNV0-axuN7fM"
      },
      "source": [
        "To insert an item into the list at a specific index without replacing any values, use insert()."
      ]
    },
    {
      "cell_type": "code",
      "metadata": {
        "id": "y9Xt3DAUOTfa"
      },
      "source": [
        "a = [1,2,3,4]\r\n",
        "print(a)\r\n",
        "a.insert(2,5) # This is called object-oriented coding. We'll go more in-depth on that later.\r\n",
        "print(a)"
      ],
      "execution_count": null,
      "outputs": []
    },
    {
      "cell_type": "markdown",
      "metadata": {
        "id": "ydtrHxpxOpFS"
      },
      "source": [
        "**Can I leave the second *argument* (user-defined value) of insert() empty? Ex. *a*.insert(2,)**"
      ]
    },
    {
      "cell_type": "markdown",
      "metadata": {
        "id": "cYeN4DKAO7yU"
      },
      "source": [
        "I can also add to the end of the list with append()."
      ]
    },
    {
      "cell_type": "code",
      "metadata": {
        "id": "grI1WA6tO_2o"
      },
      "source": [
        "a = [1,2,3,4]\r\n",
        "print(a)\r\n",
        "a.append(5)\r\n",
        "print(a)"
      ],
      "execution_count": null,
      "outputs": []
    },
    {
      "cell_type": "markdown",
      "metadata": {
        "id": "T_Jux1mkPHjx"
      },
      "source": [
        "Or concatenate with + or extend(). Order matters."
      ]
    },
    {
      "cell_type": "code",
      "metadata": {
        "id": "IMPqkB3RPPCL"
      },
      "source": [
        "a = [1,2,3]\r\n",
        "b = [4,5,6]\r\n",
        "\r\n",
        "print( a + b ) # This prints the value of a + b, but does not set a = a + b\r\n",
        "\r\n",
        "a.extend(b) # Like +=, this performs the operation immediately and effectively does a += b or a = a + b\r\n",
        "print( a )"
      ],
      "execution_count": null,
      "outputs": []
    },
    {
      "cell_type": "markdown",
      "metadata": {
        "id": "Jre54cKDQAMa"
      },
      "source": [
        "I can remove an element of a list with remove() to remove an element by value, or pop()/del to remove by index."
      ]
    },
    {
      "cell_type": "code",
      "metadata": {
        "id": "WFKL2LX2QGYA"
      },
      "source": [
        "a = [1,2,3]\r\n",
        "\r\n",
        "a.remove(1) # Immediate removal\r\n",
        "print(a)\r\n",
        "\r\n",
        "a.pop(1)\r\n",
        "print(a)\r\n",
        "\r\n",
        "del a[0]\r\n",
        "print(a)"
      ],
      "execution_count": null,
      "outputs": []
    },
    {
      "cell_type": "markdown",
      "metadata": {
        "id": "RXzg9memQY9r"
      },
      "source": [
        "**That last operation left only [ \r\n",
        "]! What is that?**\r\n",
        "\r\n",
        "**If the result of all those methods is [ ], why didn't [ ] replace the removed value after each function was used?**\r\n",
        "\r\n",
        "**Can I have an empty cell? What could the value of an empty cell (or *missing* value) be?**"
      ]
    },
    {
      "cell_type": "markdown",
      "metadata": {
        "id": "mXePVeHVMTuV"
      },
      "source": [
        "Negative indexing still works like in strings."
      ]
    },
    {
      "cell_type": "code",
      "metadata": {
        "id": "Zitl5SfLMWAW"
      },
      "source": [
        "a = [1,2,3,4]\r\n",
        "print(a[-1])\r\n",
        "print(a[-3:])"
      ],
      "execution_count": null,
      "outputs": []
    },
    {
      "cell_type": "markdown",
      "metadata": {
        "id": "Xbda-GQlM62Y"
      },
      "source": [
        "The in operator works too!"
      ]
    },
    {
      "cell_type": "code",
      "metadata": {
        "id": "-PXsrMU_M-MC"
      },
      "source": [
        "fruits = ['apple','banana','orange']\r\n",
        "print('apple' in fruits)\r\n",
        "print('kiwi' in fruits)"
      ],
      "execution_count": null,
      "outputs": []
    },
    {
      "cell_type": "markdown",
      "metadata": {
        "id": "Rg0AKCRMSNUD"
      },
      "source": [
        "Sort a list with sort(). Sort descending with 'reverse = True' argument."
      ]
    },
    {
      "cell_type": "code",
      "metadata": {
        "id": "7xnWQOwcSYw-"
      },
      "source": [
        "myList = ['orange','banana','pear','apple','plum']\r\n",
        "myList.sort()\r\n",
        "print(myList)\r\n",
        "myList.sort(reverse = True)\r\n",
        "print(myList)"
      ],
      "execution_count": null,
      "outputs": []
    },
    {
      "cell_type": "markdown",
      "metadata": {
        "id": "P3xcqSwZSsIj"
      },
      "source": [
        "**For a fun 'on-your-own', try to reverse the letters of each word in a list, then sort the list.**"
      ]
    },
    {
      "cell_type": "markdown",
      "metadata": {
        "id": "XCXGlaHjQH8h"
      },
      "source": [
        "**Remember** lists can contain **any** data type!"
      ]
    },
    {
      "cell_type": "markdown",
      "metadata": {
        "id": "4S4N_S4F6Ubr"
      },
      "source": [
        "### Dictionaries"
      ]
    },
    {
      "cell_type": "markdown",
      "metadata": {
        "id": "4I1n4ZjkVhaU"
      },
      "source": [
        "Dictionaries store key-value pairs. You can call for a value by providing a key. Create a dictionary with braces {}. Keys and values can be any data type."
      ]
    },
    {
      "cell_type": "code",
      "metadata": {
        "id": "QCdo5gfbVvXT"
      },
      "source": [
        "aboutMe = {\r\n",
        "        'Student': 'DC',\r\n",
        "        'University':'University of Illinois at Chicago',\r\n",
        "        'Department': 'Chemical Engineering',\r\n",
        "        'Program': 'Doctorate',\r\n",
        "        'Start Year': 2018,\r\n",
        "        'Adviser(s)': ['Mehraeen','Cheng']\r\n",
        "        }\r\n",
        "print(aboutMe, type(aboutMe))"
      ],
      "execution_count": null,
      "outputs": []
    },
    {
      "cell_type": "markdown",
      "metadata": {
        "id": "0ttRl_JRYRgX"
      },
      "source": [
        "Access the value for a key with brackets or get()."
      ]
    },
    {
      "cell_type": "code",
      "metadata": {
        "id": "_CJMrXsCYEAt"
      },
      "source": [
        "print(aboutMe['Department'])\r\n",
        "\r\n",
        "print(aboutMe.get('Student'))"
      ],
      "execution_count": null,
      "outputs": []
    },
    {
      "cell_type": "markdown",
      "metadata": {
        "id": "gC3QhPlkYa4u"
      },
      "source": [
        "Add a key-value pair to a dictionary *a* with *a*[*key*] = *value*."
      ]
    },
    {
      "cell_type": "code",
      "metadata": {
        "id": "ts8hK3P3Y-Cj"
      },
      "source": [
        "aboutMe['Favorite food'] = 'Pizza'\r\n",
        "print(aboutMe)"
      ],
      "execution_count": null,
      "outputs": []
    },
    {
      "cell_type": "markdown",
      "metadata": {
        "id": "voEdzFtua0N9"
      },
      "source": [
        "**As dictionaries can't have duplicates, what would happen if I tried *aboutMe*['Favorite food'] = 'Tacos'?**\r\n",
        "\r\n",
        "**How would I store 'Tacos' and 'Pizza' in *aboutMe*['Favorite food']?**"
      ]
    },
    {
      "cell_type": "markdown",
      "metadata": {
        "id": "80r42780b2he"
      },
      "source": [
        "The keys and values of a dictionary can be retrieved with keys() and values(), respectively."
      ]
    },
    {
      "cell_type": "code",
      "metadata": {
        "id": "FYTRuVY0cF6I"
      },
      "source": [
        "print(aboutMe.keys())\r\n",
        "\r\n",
        "print(aboutMe.values())"
      ],
      "execution_count": null,
      "outputs": []
    },
    {
      "cell_type": "markdown",
      "metadata": {
        "id": "BoAWpsmWcKzN"
      },
      "source": [
        "**Are dict_keys and dict_values lists? Try to find their type.**"
      ]
    },
    {
      "cell_type": "markdown",
      "metadata": {
        "id": "pbmX20VZ6Vj3"
      },
      "source": [
        "### Sets"
      ]
    },
    {
      "cell_type": "markdown",
      "metadata": {
        "id": "PAFOACpCi5FF"
      },
      "source": [
        "A set is an unordered collection of distinct elements. Define a set with braces {}."
      ]
    },
    {
      "cell_type": "code",
      "metadata": {
        "id": "tIP7-DiCjINi"
      },
      "source": [
        "classes = {'thermodynamics','fluid dynamics','numerical methods'}\r\n",
        "print(classes,type(classes))"
      ],
      "execution_count": null,
      "outputs": []
    },
    {
      "cell_type": "markdown",
      "metadata": {
        "id": "QuMjVD8_qheI"
      },
      "source": [
        "You can't access set elements like lists. They have to be retrieved by loops (discussed in next section)."
      ]
    },
    {
      "cell_type": "code",
      "metadata": {
        "id": "LnZ2tovWqj6L"
      },
      "source": [
        "for course in classes:\r\n",
        "  print(course)"
      ],
      "execution_count": null,
      "outputs": []
    },
    {
      "cell_type": "markdown",
      "metadata": {
        "id": "oLF80GdYrI1Y"
      },
      "source": [
        "**Why didn't I use the following code?**\r\n",
        "\r\n",
        "> *for class in classes:*\r\n",
        "\r\n",
        "> > *print(class)*\r\n",
        "\r\n"
      ]
    },
    {
      "cell_type": "markdown",
      "metadata": {
        "id": "ERCM4EBwoNne"
      },
      "source": [
        "Add an element to the list with add() and remove one with remove()."
      ]
    },
    {
      "cell_type": "code",
      "metadata": {
        "id": "aelT6WuToSc0"
      },
      "source": [
        "classes.add('reaction engineering')\r\n",
        "print(classes)\r\n",
        "classes.remove('thermodynamics')\r\n",
        "print(classes)"
      ],
      "execution_count": null,
      "outputs": []
    },
    {
      "cell_type": "markdown",
      "metadata": {
        "id": "AetYFr8brmrh"
      },
      "source": [
        "Check out the uses of update(), discard(), clear(), pop(), and del [here](https://www.w3schools.com/python/python_sets_remove.asp).\r\n",
        "\r\n",
        "There is a lot more on sets that I haven't covered, but can be found in the [Python manual](https://docs.python.org/3/tutorial/datastructures.html)."
      ]
    },
    {
      "cell_type": "markdown",
      "metadata": {
        "id": "agvxcwXf6Wvn"
      },
      "source": [
        "### Tuples"
      ]
    },
    {
      "cell_type": "markdown",
      "metadata": {
        "id": "Zt2YLzbXtonu"
      },
      "source": [
        "Tuples are collections which are ordered and unchangeable. Define a couple with ()."
      ]
    },
    {
      "cell_type": "code",
      "metadata": {
        "id": "2UjQk7J2uCOm"
      },
      "source": [
        "rankedLanguages = ('Python','MATLAB','R','BASH')\r\n",
        "print(rankedLanguages,type(rankedLanguages))"
      ],
      "execution_count": null,
      "outputs": []
    },
    {
      "cell_type": "markdown",
      "metadata": {
        "id": "3dBNqVK3uS7T"
      },
      "source": [
        "Tuples can have only one element, but need a comma to be distinct from another data type."
      ]
    },
    {
      "cell_type": "code",
      "metadata": {
        "id": "3fgcik_nudIp"
      },
      "source": [
        "a = ('test',)\r\n",
        "print(a, type(a))\r\n",
        "\r\n",
        "a = ('test')\r\n",
        "print(a, type(a))"
      ],
      "execution_count": null,
      "outputs": []
    },
    {
      "cell_type": "markdown",
      "metadata": {
        "id": "OECDhdIqu7Sb"
      },
      "source": [
        "Access elements of a tuple like accessing from a list."
      ]
    },
    {
      "cell_type": "code",
      "metadata": {
        "id": "xryQdT6ru_P7"
      },
      "source": [
        "mytuple = ('Hello','World','I','Am','DC')\r\n",
        "print(mytuple[0], type(mytuple[0]))\r\n",
        "print(mytuple[1:3], type(mytuple[1:3]))\r\n",
        "print(mytuple[-2:], type(mytuple[-2:]))"
      ],
      "execution_count": null,
      "outputs": []
    },
    {
      "cell_type": "markdown",
      "metadata": {
        "id": "oHeobs0ivL5B"
      },
      "source": [
        "Look! A range of elements from a tuple is also a tuple, but a single element is just the data type of the stored element."
      ]
    },
    {
      "cell_type": "markdown",
      "metadata": {
        "id": "JRzvq7bvvmiy"
      },
      "source": [
        "You can not change, rearrange, remove, or add elements to a tuple. To do these, you should first *cast* the tuple as a list, perform your mutation, then cast the list as a tuple."
      ]
    },
    {
      "cell_type": "code",
      "metadata": {
        "id": "mky4BPC0wDOc"
      },
      "source": [
        "mytuple = ('apples','bananas','pears')\r\n",
        "mytuple.append('kiwis')"
      ],
      "execution_count": null,
      "outputs": []
    },
    {
      "cell_type": "markdown",
      "metadata": {
        "id": "6xLPWbw6wKzI"
      },
      "source": [
        "See? Instead, do the following:"
      ]
    },
    {
      "cell_type": "code",
      "metadata": {
        "id": "zKtLLZsxwNbc"
      },
      "source": [
        "mytuple = ('apples','bananas','pears')\r\n",
        "tmptuple = list(mytuple) # It's generally a bad idea to do variable = function(variable). You may overwrite a variable you don't mean to\r\n",
        "tmptuple.append('kiwis')\r\n",
        "mytuple = tuple(tmptuple)\r\n",
        "print(mytuple, type(mytuple))"
      ],
      "execution_count": null,
      "outputs": []
    },
    {
      "cell_type": "markdown",
      "metadata": {
        "id": "o9f59Bcewv7w"
      },
      "source": [
        "You've seen me do the next trick already in the section on Booleans. Setting the elements of a tuple with *variable* = (*tuple elements*) is called *packing* the tuple. Extracting the values of the tuple into variables is called *unpacking* the tuple."
      ]
    },
    {
      "cell_type": "code",
      "metadata": {
        "id": "SUdeLFSmxGa5"
      },
      "source": [
        "# Packing the tuple\r\n",
        "fruits = ('apple','banana','kiwi')\r\n",
        "\r\n",
        "# Unpacking the tuple\r\n",
        "(red, yellow, brown) = fruits\r\n",
        "\r\n",
        "print(red)\r\n",
        "print(yellow)\r\n",
        "print(brown)"
      ],
      "execution_count": null,
      "outputs": []
    },
    {
      "cell_type": "markdown",
      "metadata": {
        "id": "JKXMDNztxbrK"
      },
      "source": [
        "If you're not sure how many values are coming out of a tuple, or you want to store all elements of a tuple after the *i*-th, use an asterisk *. If multiple come out, they'll fill a list."
      ]
    },
    {
      "cell_type": "code",
      "metadata": {
        "id": "_JONTfEvx4e6"
      },
      "source": [
        "fruits = ('apple', 'banana', 'cherry', 'strawberry', 'raspberry')\r\n",
        "\r\n",
        "(green, yellow, *red) = fruits\r\n",
        "\r\n",
        "print(green, type(green))\r\n",
        "print(yellow, type(yellow))\r\n",
        "print(red, type(red))"
      ],
      "execution_count": null,
      "outputs": []
    },
    {
      "cell_type": "markdown",
      "metadata": {
        "id": "S46ZOuJ2yLzt"
      },
      "source": [
        "The last section isn't chosen for its color by some artificial intelligence, they just all happen to be red."
      ]
    },
    {
      "cell_type": "markdown",
      "metadata": {
        "id": "v0eKQT3Kyigp"
      },
      "source": [
        "Join two tuples with +, multiply with *."
      ]
    },
    {
      "cell_type": "code",
      "metadata": {
        "id": "qm7BMm5HypM_"
      },
      "source": [
        "a = ('a', 'b', 'c')\r\n",
        "b = (1, 2, 3)\r\n",
        "\r\n",
        "print( a + b )\r\n",
        "\r\n",
        "print( a * 3 )"
      ],
      "execution_count": null,
      "outputs": []
    },
    {
      "cell_type": "markdown",
      "metadata": {
        "id": "3mHoBgQ4y2Xj"
      },
      "source": [
        "Count the number of occurrences of a specified value in a list with count(). \r\n",
        "\r\n",
        "Search a tuple for a specified value and return its index with index()."
      ]
    },
    {
      "cell_type": "code",
      "metadata": {
        "id": "ZIB7zYA3zCyq"
      },
      "source": [
        "a = (1, 2, 3, 1, 2, 1, 4, 6, 4)\r\n",
        "\r\n",
        "print(a.count(4))\r\n",
        "\r\n",
        "print(a.index(6))"
      ],
      "execution_count": null,
      "outputs": []
    },
    {
      "cell_type": "markdown",
      "metadata": {
        "id": "g3Znwz6G3SM_"
      },
      "source": [
        "## **Condition-dependent statements and loops**"
      ]
    },
    {
      "cell_type": "markdown",
      "metadata": {
        "id": "qthOe_sQ3u1Q"
      },
      "source": [
        "Everything covered so far are the foundations of efficient programming. Everything hereafter is what's actually fun and necessary for making useful programs."
      ]
    },
    {
      "cell_type": "markdown",
      "metadata": {
        "id": "iS-OBcp5zUkD"
      },
      "source": [
        "### Conditions and *if* statements"
      ]
    },
    {
      "cell_type": "markdown",
      "metadata": {
        "id": "NTmg21VXzlbb"
      },
      "source": [
        "*if* statements are one of the most quintessential tools of programming. Almost anything can be done with just *if* ... *if* ... (though that would be wildly inefficient). I once had a high school classmate program an entire video game with nothing but *if* statements. It's possible. Painful. But possible.\r\n",
        "\r\n",
        "That said, an *if* statement is checking some condition has been met. Conditions were introduced primarily in Booleans (==, !=, >, <, >=, <=), but I sprinkled some throughout strings, lists, etc. (in, and, not, or, is). \r\n",
        "\r\n",
        "*if* statements function in the following way:\r\n",
        "\r\n",
        "> if condition is met, then do something\r\n",
        "\r\n",
        "Writing like that is called pseudocode, where my phrase isn't interpretable by a programming language, but helps me understand what my intent of the code will be (unless you're extremely clever and write your own like [rockstar](https://codewithrockstar.com/), [Chef](https://www.dangermouse.net/esoteric/chef.html), or [Shakespeare](http://shakespearelang.sourceforge.net/). If you ever want to talk esolang [esoteric programming languages], hit me up).\r\n",
        "\r\n",
        "**ALRIGHT** let's get to programming *if* statements."
      ]
    },
    {
      "cell_type": "markdown",
      "metadata": {
        "id": "xpng_lvD4q7W"
      },
      "source": [
        "*if* statements begin with a condition followed by a colon, then a newline and a tab."
      ]
    },
    {
      "cell_type": "code",
      "metadata": {
        "id": "xswJ9T9M4EzO"
      },
      "source": [
        "a = 1\r\n",
        "b = 2\r\n",
        "if a < b:\r\n",
        "  print('a less than b')\r\n",
        "if a > b:\r\n",
        "  print('a greater than b')\r\n",
        "if a <= b:\r\n",
        "  print('a less than or equal to b')\r\n",
        "if a >= b:\r\n",
        "  print('a greater than or equal to b')\r\n",
        "if a == b:\r\n",
        "  print('a equal to b')\r\n",
        "if a != b:\r\n",
        "  print('a not equal to b')"
      ],
      "execution_count": null,
      "outputs": []
    },
    {
      "cell_type": "markdown",
      "metadata": {
        "id": "eCgez3Mi4gCx"
      },
      "source": [
        "That's hardly efficient. For moments where you need to say:\r\n",
        "> if the previous condition proves false, try this\r\n",
        "\r\n",
        "use *elif*. *elif* works exactly like an *if* statement, but must be used after an *if* statement and be at the same *indentation* as the *if*.\r\n",
        "\r\n",
        "Python uses indentation to define *scope*. Languages like C use {} while MATLAB has no indentation requirement or bracketing, but uses the *end* keyword."
      ]
    },
    {
      "cell_type": "code",
      "metadata": {
        "id": "G86JyiCd5nYO"
      },
      "source": [
        "a = 2\r\n",
        "b = 2\r\n",
        "if a > b:\r\n",
        "  print('a greater than b')\r\n",
        "elif a == b:\r\n",
        "  print('a equal to b')"
      ],
      "execution_count": null,
      "outputs": []
    },
    {
      "cell_type": "markdown",
      "metadata": {
        "id": "uImO9nmB58Om"
      },
      "source": [
        "If you want to have an 'all the rest' condition, use *else*. Same indentation rules as *if* and *elif*, but contained code will only execute if no other *if* or *elif* conditions are met first."
      ]
    },
    {
      "cell_type": "code",
      "metadata": {
        "id": "Vhy9loOA6O7F"
      },
      "source": [
        "a = 1\r\n",
        "b = 2\r\n",
        "if a > b:\r\n",
        "  print('a greater than b')\r\n",
        "elif a == b:\r\n",
        "  print('a equal to b')\r\n",
        "else:\r\n",
        "  print('a less than b')"
      ],
      "execution_count": null,
      "outputs": []
    },
    {
      "cell_type": "markdown",
      "metadata": {
        "id": "fFYi6vTI6ZWV"
      },
      "source": [
        "**An *elif* statement is not always necessary before an *else*. Try this on your own**"
      ]
    },
    {
      "cell_type": "markdown",
      "metadata": {
        "id": "76IShdXd6g-K"
      },
      "source": [
        "These still feel like a lot of work. Too many indents. Thankfully, we can make many different types of one line condition-dependent statements."
      ]
    },
    {
      "cell_type": "code",
      "metadata": {
        "id": "XU0kGHlt66O0"
      },
      "source": [
        "a = 1\r\n",
        "b = 2\r\n",
        "print('>') if a > b else print('<')"
      ],
      "execution_count": null,
      "outputs": []
    },
    {
      "cell_type": "markdown",
      "metadata": {
        "id": "VBQxi4FF7GAy"
      },
      "source": [
        "That *almost* feels like pseudocode. Too bad this isn't Python 2 where I could write:\r\n",
        "> print '>' if a > b else print '<'"
      ]
    },
    {
      "cell_type": "markdown",
      "metadata": {
        "id": "Xdb0eKyp7SQJ"
      },
      "source": [
        "If I want to meet multiple conditions simultaneously, I'll use *and*. If I want to meet at least one of many conditions, I'd use *or*."
      ]
    },
    {
      "cell_type": "code",
      "metadata": {
        "id": "26dtvz7Y8Xft"
      },
      "source": [
        "a = 1\r\n",
        "b = 2\r\n",
        "c = 3\r\n",
        "if a > b and a < c:\r\n",
        "  print('Both true')\r\n",
        "elif a > b or a < c:\r\n",
        "  print('At least one true')"
      ],
      "execution_count": null,
      "outputs": []
    },
    {
      "cell_type": "markdown",
      "metadata": {
        "id": "G6r8aY0X8nLE"
      },
      "source": [
        "You can *nest* *if* statements (and thus *elif* and *else* statements as well). This can be extremely useful, but please *please* **please** never use nested *if* statements if *elif* or *else* would be more appropriate."
      ]
    },
    {
      "cell_type": "code",
      "metadata": {
        "id": "OhqRPOQr8tYi"
      },
      "source": [
        "a = 1\r\n",
        "b = 1\r\n",
        "c = 2\r\n",
        "if a == b:\r\n",
        "  print('a equal to b')\r\n",
        "  if a > c:\r\n",
        "    print('a greater than c too')\r\n",
        "  else:\r\n",
        "    print('a not greater than c')"
      ],
      "execution_count": null,
      "outputs": []
    },
    {
      "cell_type": "markdown",
      "metadata": {
        "id": "1JvGT9Cs9J7e"
      },
      "source": [
        "Like nested *if*s, sometimes you want to check a condition but can't figure out how to use *if* right (hint: usually *if not* is better). In these moments, you can use *pass* to avoid the error caused by an empty *if*."
      ]
    },
    {
      "cell_type": "code",
      "metadata": {
        "id": "9mW7BaPG9kKt"
      },
      "source": [
        "a = 1\r\n",
        "b = 2"
      ],
      "execution_count": null,
      "outputs": []
    },
    {
      "cell_type": "markdown",
      "metadata": {
        "id": "wFfOmDDD9iSy"
      },
      "source": [
        "Instead of:"
      ]
    },
    {
      "cell_type": "code",
      "metadata": {
        "id": "CP2ok4s69f0V"
      },
      "source": [
        "if a > b:\r\n",
        "  \r\n",
        "else:\r\n",
        "  print('a less than b')"
      ],
      "execution_count": null,
      "outputs": []
    },
    {
      "cell_type": "markdown",
      "metadata": {
        "id": "rt6e-SQH9tbX"
      },
      "source": [
        "Use:"
      ]
    },
    {
      "cell_type": "code",
      "metadata": {
        "id": "Dcv8f3Jo9uzc"
      },
      "source": [
        "if a > b:\r\n",
        "  pass\r\n",
        "else:\r\n",
        "  print('a less than b')"
      ],
      "execution_count": null,
      "outputs": []
    },
    {
      "cell_type": "markdown",
      "metadata": {
        "id": "Zc_nVnS691wn"
      },
      "source": [
        "Play around with *if* statements for other data types, especially containers! Here's a sample."
      ]
    },
    {
      "cell_type": "code",
      "metadata": {
        "id": "Zc_BkqRk99vy"
      },
      "source": [
        "fruits = ('apples','bananas','pears')\r\n",
        "if type(fruits) == tuple:\r\n",
        "  if 'kiwi' in fruits:\r\n",
        "    print('kiwi\\'s in the tuple')\r\n",
        "  else:\r\n",
        "    print('just a tuple, I guess')"
      ],
      "execution_count": null,
      "outputs": []
    },
    {
      "cell_type": "markdown",
      "metadata": {
        "id": "u95GAqKf-mYA"
      },
      "source": [
        "**Try to programmatically add 'kiwi' to the tuple then check the conditions again.**"
      ]
    },
    {
      "cell_type": "markdown",
      "metadata": {
        "id": "ZJ8jqqbd6POe"
      },
      "source": [
        "### Loops"
      ]
    },
    {
      "cell_type": "markdown",
      "metadata": {
        "id": "lDZZkMM8_Ucf"
      },
      "source": [
        "Loops, like *if* statements, are powerful and another basic tool for creating programs. These are tasks that are repeated until some condition is achieved.\r\n",
        "\r\n",
        "For example, if you plan to count to 100 by whole numbers starting at 0, you begin with 0 and add 1. Now you (probably subconsciously) check if you're at 100. Not quite there yet, so you add 1 again: 2. Check again, still not there. This process continues until you add 1 to 99, then you reach 100 and your condition is satisfied (and you've wasted a few minutes that should be spent studying).\r\n",
        "\r\n",
        "There are two types of loops, *while* and *for*. They both follow the same indentation scheme as *if* statements."
      ]
    },
    {
      "cell_type": "markdown",
      "metadata": {
        "id": "VVITuWMTAxJ1"
      },
      "source": [
        "#### *while* loops "
      ]
    },
    {
      "cell_type": "markdown",
      "metadata": {
        "id": "H825JJTzE3x5"
      },
      "source": [
        "*while* loops execute a function until a condition is true. These can inadvertently run until infinity (and crash your computer), so be sure to always include a stop condition."
      ]
    },
    {
      "cell_type": "code",
      "metadata": {
        "id": "SpcG3UPMBBVa"
      },
      "source": [
        "i = 1\r\n",
        "while i <= 5:\r\n",
        "  print(i)\r\n",
        "  i += 1"
      ],
      "execution_count": null,
      "outputs": []
    },
    {
      "cell_type": "code",
      "metadata": {
        "id": "qNoRsowyBHoV"
      },
      "source": [
        "########## DON'T RUN UNLESS YOU HAVE A MEDIOCRE COMPUTER OR BETTER ###############\r\n",
        "# i = 1\r\n",
        "# while i <= 9:\r\n",
        "#   print(i)\r\n",
        "########## DON'T RUN UNLESS YOU HAVE A MEDIOCRE COMPUTER OR BETTER ###############"
      ],
      "execution_count": null,
      "outputs": []
    },
    {
      "cell_type": "markdown",
      "metadata": {
        "id": "bVmELCssC1oO"
      },
      "source": [
        "If I meet some condition before my *while* condition is met, for example if my numerical solution has met some expected error tolerance, I'd use a *break* to stop the *while* loop, even while its condition is true."
      ]
    },
    {
      "cell_type": "code",
      "metadata": {
        "id": "y5QdTEaLDKPc"
      },
      "source": [
        "a = 1\r\n",
        "while True:\r\n",
        "  if a == 4:\r\n",
        "    print('a is 4!')\r\n",
        "    break\r\n",
        "  else:\r\n",
        "    print('a is not 4!')\r\n",
        "    a += 1"
      ],
      "execution_count": null,
      "outputs": []
    },
    {
      "cell_type": "markdown",
      "metadata": {
        "id": "sVqPokMVDbCr"
      },
      "source": [
        "If I want to do continue a *while* loop when a condition is met, but I want to do something on this iteration, I'll use *continue*."
      ]
    },
    {
      "cell_type": "code",
      "metadata": {
        "id": "DavaK94hDgQ6"
      },
      "source": [
        "a = 0\r\n",
        "while a < 6:\r\n",
        "  a += 1\r\n",
        "  if a == 3:\r\n",
        "    continue # Restart the while loop here\r\n",
        "  print(a)"
      ],
      "execution_count": null,
      "outputs": []
    },
    {
      "cell_type": "markdown",
      "metadata": {
        "id": "mNE0m8dDDwH_"
      },
      "source": [
        "**Where'd 3 go?**"
      ]
    },
    {
      "cell_type": "markdown",
      "metadata": {
        "id": "hc-XC9lTD-fX"
      },
      "source": [
        "Python has one of the wildest aspects of a *while* loop, which is the *else* statement. This block of code will execute when the condition of the *while* loop is met."
      ]
    },
    {
      "cell_type": "code",
      "metadata": {
        "id": "vAulRI82EI5X"
      },
      "source": [
        "a = 1\r\n",
        "while a < 4:\r\n",
        "  print(a)\r\n",
        "  a += 1\r\n",
        "else:\r\n",
        "  print('a isn\\'t less than 4 anymore')"
      ],
      "execution_count": null,
      "outputs": []
    },
    {
      "cell_type": "markdown",
      "metadata": {
        "id": "QMbiaWp1EXiK"
      },
      "source": [
        "*while* loops are great, but be careful about where you put certain iterating values or *if* statements. A harmless example is below."
      ]
    },
    {
      "cell_type": "code",
      "metadata": {
        "id": "cNLTxgehEddK"
      },
      "source": [
        "a = 0\r\n",
        "while a < 3:\r\n",
        "  a += 1\r\n",
        "  print(a)\r\n",
        "\r\n",
        "print('\\n')\r\n",
        "\r\n",
        "a = 0\r\n",
        "while a < 3:\r\n",
        "  print(a)\r\n",
        "  a += 1\r\n"
      ],
      "execution_count": null,
      "outputs": []
    },
    {
      "cell_type": "markdown",
      "metadata": {
        "id": "3fOckuFTE9if"
      },
      "source": [
        "#### *for* loops"
      ]
    },
    {
      "cell_type": "markdown",
      "metadata": {
        "id": "efAsBcivFPk9"
      },
      "source": [
        "*for* loops iterate over some sequence-like data-type (string, list, tuple, ...). A *for* loop works to go through and perform some action with or at each element."
      ]
    },
    {
      "cell_type": "markdown",
      "metadata": {
        "id": "4MFMzAneGz4P"
      },
      "source": [
        "For example looping through a list of numbers and printing their squares."
      ]
    },
    {
      "cell_type": "code",
      "metadata": {
        "id": "5CF0xYdBF7na"
      },
      "source": [
        "x = [1, 2, 3]\r\n",
        "for i in x:\r\n",
        "  print(i**2)"
      ],
      "execution_count": null,
      "outputs": []
    },
    {
      "cell_type": "markdown",
      "metadata": {
        "id": "JpOHLhXtGxwu"
      },
      "source": [
        "Or looping through the characters of a string (and honoring Gwen Stefani)."
      ]
    },
    {
      "cell_type": "code",
      "metadata": {
        "id": "PMHb9fWHG74z"
      },
      "source": [
        "word = 'bananas'\r\n",
        "for letter in word:\r\n",
        "  print(letter)"
      ],
      "execution_count": null,
      "outputs": []
    },
    {
      "cell_type": "markdown",
      "metadata": {
        "id": "Qs0h7r5DGqUk"
      },
      "source": [
        "*break*, *pass*, and *continue* all work here, but I'll let you figure those out."
      ]
    },
    {
      "cell_type": "markdown",
      "metadata": {
        "id": "CcP8dWa6HN_z"
      },
      "source": [
        "Calling back to the prior example, instead of wasting precious studying/researching time to count to 100, I'll use range() to do this. range(*a*, *b*, *c*) returns a *range* data-type value which is a sequence of integers betwen *a* (included) and *b* (not included) at step-size *c*. If *a* and *c* are not provided, it will provide the range of integers from 0 (included) to *b* (not included)."
      ]
    },
    {
      "cell_type": "code",
      "metadata": {
        "id": "1Xi3KE3cIABx"
      },
      "source": [
        "x = range(101)\r\n",
        "print(x, type(x))\r\n",
        "\r\n",
        "for i in x[:10]: # I don't want to print all 100, sorry if you can't count beyond 10.\r\n",
        "  print(i, type(i))"
      ],
      "execution_count": null,
      "outputs": []
    },
    {
      "cell_type": "markdown",
      "metadata": {
        "id": "uOGsaderIUSZ"
      },
      "source": [
        "**List comprehensions** are a single-line *Pythonic* way to use *for* loops on a sequence and store the results in a new value/variable. **This is the best thing I've learned in Python.** If you take little away from this workshop, please remember this."
      ]
    },
    {
      "cell_type": "code",
      "metadata": {
        "id": "tlU_fPqkIa9U"
      },
      "source": [
        "a = [i for i in range(101) if i < 10]\r\n",
        "print(a, type(a))\r\n",
        "\r\n",
        "a = range(1,4)\r\n",
        "b = [x**2 for x in a]\r\n",
        "print(b, type(b))"
      ],
      "execution_count": null,
      "outputs": []
    },
    {
      "cell_type": "code",
      "metadata": {
        "id": "WNSMJDN27gD6"
      },
      "source": [
        "# The range(a,b,c) function is extremely useful. It returns all integers between a and b (not included) in stepsize c. \r\n",
        "# If a and c are empty, it returns all integers between 0 and b (not included)\r\n",
        "a = range(20)\r\n",
        "print(a, type(a)) # What's a class 'range'?\r\n",
        "\r\n",
        "b = [i for i in a if i > 10]\r\n",
        " print(b)"
      ],
      "execution_count": null,
      "outputs": []
    },
    {
      "cell_type": "markdown",
      "metadata": {
        "id": "Lv8hBd_36X6_"
      },
      "source": [
        "## **Functions**"
      ]
    },
    {
      "cell_type": "markdown",
      "metadata": {
        "id": "zrspuLmkJza-"
      },
      "source": [
        "Functions are the most powerful aspect of programming. They work to condense sections of code which will be reused into a single word that can be called whenever the functions operations are needed.\r\n",
        "\r\n",
        "Note: Data and loops can do everything functions can do, but they end up looking massive and sloppy, and no amount of CTRL+C/CTRL+V will ever save you as much time as writing an efficient function will."
      ]
    },
    {
      "cell_type": "markdown",
      "metadata": {
        "id": "34zFRZHULUA5"
      },
      "source": [
        "Functions begin with the *def* keyword then the functions name and a colon. All routines the function will perform are included below that and are indented at least once. Functions must be defined before they are called*.\r\n",
        "\r\n",
        "*There is a way to make this statement false, discussed below."
      ]
    },
    {
      "cell_type": "code",
      "metadata": {
        "id": "j6EvryraLctG"
      },
      "source": [
        "def helloWorld():\r\n",
        "  print('Hello, world!')"
      ],
      "execution_count": null,
      "outputs": []
    },
    {
      "cell_type": "markdown",
      "metadata": {
        "id": "noVTYW4ZLcBi"
      },
      "source": [
        "Call a function by its name followed by parenthesis ()."
      ]
    },
    {
      "cell_type": "code",
      "metadata": {
        "id": "Hjh0wM9GLS4R"
      },
      "source": [
        "for i in range(5):\r\n",
        "  helloWorld()"
      ],
      "execution_count": null,
      "outputs": []
    },
    {
      "cell_type": "markdown",
      "metadata": {
        "id": "EaIMBlzDMs-p"
      },
      "source": [
        "This is totally reusable and can be used on its own too."
      ]
    },
    {
      "cell_type": "code",
      "metadata": {
        "id": "i2CFo8gfMrcL"
      },
      "source": [
        "helloWorld()"
      ],
      "execution_count": null,
      "outputs": []
    },
    {
      "cell_type": "markdown",
      "metadata": {
        "id": "AeId32WaM22g"
      },
      "source": [
        "If I want to have my function act with some information, I need to provide *arguments* to the function. Arguments go within the parentheses. If there are multiple, separate them with a comma. You can pass any data type as an argument to a function.\r\n",
        "\r\n",
        "I'll demonstrate this by building a function to square a number."
      ]
    },
    {
      "cell_type": "code",
      "metadata": {
        "id": "k2D5-0LXMy-L"
      },
      "source": [
        "def square(x):\r\n",
        "  print(x**2)\r\n",
        "\r\n",
        "nums = range(3)\r\n",
        "for i in nums:\r\n",
        "  square(i)"
      ],
      "execution_count": null,
      "outputs": []
    },
    {
      "cell_type": "markdown",
      "metadata": {
        "id": "iDJX-lECNEHZ"
      },
      "source": [
        "I can also get something out of my function as well with *return*."
      ]
    },
    {
      "cell_type": "code",
      "metadata": {
        "id": "fSWBwbICNzYl"
      },
      "source": [
        "def square(x):\r\n",
        "  return x**2\r\n",
        "\r\n",
        "nums = range(3)\r\n",
        "squares = []\r\n",
        "for i in nums:\r\n",
        "  squares.append(square(i))\r\n",
        "\r\n",
        "print(squares)"
      ],
      "execution_count": null,
      "outputs": []
    },
    {
      "cell_type": "markdown",
      "metadata": {
        "id": "0mMG2Y8XOWhk"
      },
      "source": [
        "If I have multiple arguments, say 2, I can use (arg1, arg2). But if I don't know how many I will have I can use * before a parameter name to take an arbitrary amount of arguments and store them as a tuple."
      ]
    },
    {
      "cell_type": "code",
      "metadata": {
        "id": "j_QgWq0-PDSW"
      },
      "source": [
        "def square(*x):\r\n",
        "  for i in x:\r\n",
        "    print(i**2)\r\n",
        "\r\n",
        "square(1)\r\n",
        "square(1, 2)\r\n",
        "square(0, 2, 4)"
      ],
      "execution_count": null,
      "outputs": []
    },
    {
      "cell_type": "markdown",
      "metadata": {
        "id": "oNqWrK-tPrwr"
      },
      "source": [
        "If your function expects specific variables (say pressure and temperature), our current understanding would suggest the function needs the arguments passed in a well-defined way. Instead of risking this, you can use *keyword* arguments, which follow *key* = *value* syntax."
      ]
    },
    {
      "cell_type": "code",
      "metadata": {
        "id": "Ufn5kgPyQHFS"
      },
      "source": [
        "def ideal(P, V, T, R):\r\n",
        "  n = ( P * V ) / ( R * T )\r\n",
        "  return n\r\n",
        "\r\n",
        "print(str(ideal( T=300, P=1.5, V=2.7, R = 8.314))+' mol')"
      ],
      "execution_count": null,
      "outputs": []
    },
    {
      "cell_type": "markdown",
      "metadata": {
        "id": "U2eLZg2jQ4eV"
      },
      "source": [
        "There are arbitrary keywords too, but you can [learn that on your own](https://www.w3schools.com/python/python_functions.asp)."
      ]
    },
    {
      "cell_type": "markdown",
      "metadata": {
        "id": "xJl0nHV6RBCG"
      },
      "source": [
        "If I want to set default values for a function in case the user doesn't set their own, I can do this with a *key* = *value* pair in the function definition."
      ]
    },
    {
      "cell_type": "code",
      "metadata": {
        "id": "tT5VKvW8ROEx"
      },
      "source": [
        "def ideal(P, V, T, R=8.314):\r\n",
        "  # Assumes KJ*K^-1*mol^-1 if R is not specified.\r\n",
        "  n = ( P * V ) / ( R * T )\r\n",
        "  return n\r\n",
        "  \r\n",
        "print(str(ideal( T=300, P=1.5, V=2.7))+' mol')"
      ],
      "execution_count": null,
      "outputs": []
    },
    {
      "cell_type": "markdown",
      "metadata": {
        "id": "6d_HReAROMdm"
      },
      "source": [
        "Like all the rest, you can't leave functions empty, so use *pass* if you need to."
      ]
    },
    {
      "cell_type": "markdown",
      "metadata": {
        "id": "IvGeg3qGSbTy"
      },
      "source": [
        "Defining a function after where it is called is a half-truth. It depends upon the way a special variable **\\_\\_name\\_\\_** exists in a script. \\_\\_name\\_\\_ is automatically generated when a Python script is executed but requires a special format. A sample is included below."
      ]
    },
    {
      "cell_type": "code",
      "metadata": {
        "id": "XqmjOS19Saty"
      },
      "source": [
        "def main():\r\n",
        "  print(square(4))\r\n",
        "\r\n",
        "def square(x):\r\n",
        "  return x**2\r\n",
        "\r\n",
        "if __name__ == '__main__':\r\n",
        "  main()"
      ],
      "execution_count": null,
      "outputs": []
    },
    {
      "cell_type": "markdown",
      "metadata": {
        "id": "agY5CZRCXd8n"
      },
      "source": [
        "## **Next time: Class structures, modules, and data science!**"
      ]
    }
  ]
}